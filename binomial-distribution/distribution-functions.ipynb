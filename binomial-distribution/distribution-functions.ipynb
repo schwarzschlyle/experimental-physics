{
  "cells": [
    {
      "cell_type": "markdown",
      "id": "e8412dc1",
      "metadata": {
        "id": "e8412dc1"
      },
      "source": [
        "# Coin Toss Binomial Distribution"
      ]
    },
    {
      "cell_type": "code",
      "execution_count": 1,
      "id": "e182e5c0",
      "metadata": {
        "id": "e182e5c0"
      },
      "outputs": [],
      "source": [
        "import pandas as pd\n",
        "import numpy as np\n",
        "from random import randint\n",
        "import plotly.express as px\n",
        "from random import randrange,seed "
      ]
    },
    {
      "cell_type": "code",
      "execution_count": 2,
      "id": "4bf138aa",
      "metadata": {
        "id": "4bf138aa"
      },
      "outputs": [],
      "source": [
        "def toss_n_coins_m_times(n,m):\n",
        "    seed(42)\n",
        "    array = [randint(0,1) for i in range(1,n+1)]\n",
        "    column = [i for i in range(1,n+1)]\n",
        "    df = pd.DataFrame([array], columns=column)\n",
        "    for i in range (1,m):\n",
        "        df.loc[i] = [randint(0,1) for i in range(1,n+1)]\n",
        "    df['total_heads'] = df.sum(axis=1) \n",
        "    df['type'] = 'simulation'\n",
        "    return df"
      ]
    },
    {
      "cell_type": "markdown",
      "id": "173e9b3e",
      "metadata": {
        "id": "173e9b3e"
      },
      "source": [
        "# Experimental Data"
      ]
    },
    {
      "cell_type": "code",
      "execution_count": 2,
      "id": "6212fe3a",
      "metadata": {
        "id": "6212fe3a"
      },
      "outputs": [],
      "source": []
    },
    {
      "cell_type": "markdown",
      "id": "05362cc9",
      "metadata": {
        "id": "05362cc9"
      },
      "source": [
        "# Simulation Data"
      ]
    },
    {
      "cell_type": "code",
      "execution_count": 4,
      "id": "69eb28e2",
      "metadata": {
        "id": "69eb28e2",
        "colab": {
          "base_uri": "https://localhost:8080/",
          "height": 1000
        },
        "outputId": "b6e9a64b-173f-435e-e52d-e36bb8319ad9"
      },
      "outputs": [
        {
          "output_type": "stream",
          "name": "stdout",
          "text": [
            "    1  2  3  4  5  6  7  8  9  10  ...  13  14  15  16  17  18  19  20  \\\n",
            "0   0  0  1  0  0  0  0  0  1   0  ...   0   0   0   0   1   0   1   1   \n",
            "1   0  0  1  1  1  0  0  1  0   0  ...   1   1   1   0   1   0   1   0   \n",
            "2   1  1  0  0  0  0  1  0  0   0  ...   1   1   0   1   1   0   1   0   \n",
            "3   0  0  0  1  1  1  0  1  0   0  ...   1   1   0   0   1   0   1   1   \n",
            "4   1  0  1  0  0  1  1  1  1   0  ...   0   0   0   0   0   1   0   1   \n",
            "5   1  1  1  0  0  1  1  0  1   1  ...   0   1   0   0   1   0   0   1   \n",
            "6   0  0  1  1  0  0  1  1  0   0  ...   0   1   0   0   0   1   0   1   \n",
            "7   1  0  0  1  1  1  1  1  0   0  ...   1   0   0   0   0   0   0   0   \n",
            "8   0  0  1  0  0  1  1  0  0   1  ...   1   0   0   0   1   1   1   1   \n",
            "9   1  0  0  0  1  1  0  0  0   0  ...   1   0   1   1   0   0   1   0   \n",
            "10  0  0  0  0  0  1  1  1  0   1  ...   1   0   1   1   1   1   1   1   \n",
            "11  0  0  1  0  0  0  1  0  0   1  ...   0   0   0   0   0   1   0   0   \n",
            "12  0  0  1  1  1  0  1  0  1   1  ...   1   1   0   0   1   0   0   0   \n",
            "13  1  0  1  0  0  1  1  0  1   1  ...   0   0   1   0   0   0   1   1   \n",
            "14  0  1  0  1  1  1  0  0  1   1  ...   1   0   1   0   1   1   0   0   \n",
            "15  0  0  0  1  0  1  0  0  1   1  ...   0   0   0   1   1   0   0   0   \n",
            "16  0  1  0  0  1  1  0  1  0   0  ...   1   0   0   1   1   1   0   0   \n",
            "17  0  0  1  1  1  0  1  1  1   1  ...   1   0   1   0   0   1   1   1   \n",
            "18  1  0  1  0  1  0  1  0  0   1  ...   1   1   0   1   1   1   1   1   \n",
            "19  1  0  0  1  1  0  1  1  0   1  ...   1   1   1   1   1   0   1   0   \n",
            "20  0  1  1  0  0  1  0  0  0   0  ...   1   0   1   1   0   1   1   1   \n",
            "21  0  0  0  0  1  0  0  1  0   0  ...   0   1   1   1   1   1   0   1   \n",
            "22  1  1  0  1  1  0  1  1  0   1  ...   1   1   0   0   0   0   1   0   \n",
            "23  0  0  1  1  1  1  1  0  0   1  ...   1   1   0   1   1   1   1   0   \n",
            "24  1  0  1  1  1  0  1  1  1   0  ...   0   1   0   0   1   0   1   0   \n",
            "25  0  1  1  1  0  1  1  1  1   1  ...   0   1   0   0   1   0   0   0   \n",
            "26  0  0  0  0  0  0  0  1  0   0  ...   1   0   0   0   1   0   0   1   \n",
            "27  1  1  0  0  0  0  1  0  0   1  ...   0   1   0   1   1   0   1   1   \n",
            "28  1  0  1  0  1  1  1  1  1   1  ...   1   1   0   1   1   1   0   1   \n",
            "29  1  0  1  0  1  1  1  1  1   0  ...   0   1   1   0   1   1   1   0   \n",
            "30  0  1  0  1  0  1  1  1  1   1  ...   1   1   1   1   0   0   0   1   \n",
            "31  0  0  0  0  1  1  1  0  0   1  ...   0   1   0   0   1   0   0   1   \n",
            "32  0  1  0  0  1  1  1  1  1   0  ...   1   0   0   1   1   0   0   0   \n",
            "33  0  1  0  0  0  1  0  1  1   1  ...   1   0   0   0   0   1   0   0   \n",
            "34  0  0  0  0  0  1  1  1  1   0  ...   1   1   0   0   1   0   1   0   \n",
            "35  0  0  1  0  0  0  0  1  1   1  ...   1   1   1   1   1   0   0   1   \n",
            "36  1  1  0  0  0  0  1  0  0   1  ...   0   1   1   0   1   1   1   1   \n",
            "37  1  0  0  1  1  1  1  1  0   1  ...   1   1   0   1   0   1   1   0   \n",
            "38  0  1  1  1  0  0  1  0  1   1  ...   0   0   0   1   0   1   0   0   \n",
            "39  0  1  0  0  1  1  1  1  1   1  ...   0   1   0   0   0   1   1   1   \n",
            "40  1  0  1  1  1  0  1  1  1   1  ...   1   0   0   1   0   1   0   1   \n",
            "41  1  1  1  0  1  0  0  1  0   1  ...   0   0   1   0   0   1   1   1   \n",
            "42  1  0  1  1  1  1  0  0  0   1  ...   1   0   0   1   0   1   0   0   \n",
            "43  1  0  1  1  1  1  0  0  1   0  ...   0   1   0   1   0   0   1   1   \n",
            "44  1  1  0  1  1  0  0  1  1   1  ...   1   1   0   1   1   0   0   1   \n",
            "45  1  1  1  0  1  1  0  0  1   1  ...   0   0   1   0   0   0   1   1   \n",
            "46  0  1  0  0  1  1  1  0  0   0  ...   0   1   1   1   1   0   1   0   \n",
            "47  0  0  1  1  0  1  0  1  0   1  ...   1   1   0   0   1   0   1   0   \n",
            "48  0  1  1  1  0  0  0  0  1   1  ...   0   0   1   1   1   1   0   1   \n",
            "49  0  1  1  1  0  1  0  1  1   0  ...   1   1   0   1   1   0   0   1   \n",
            "\n",
            "    total_heads        type  \n",
            "0             5  simulation  \n",
            "1            10  simulation  \n",
            "2            10  simulation  \n",
            "3            10  simulation  \n",
            "4             9  simulation  \n",
            "5            11  simulation  \n",
            "6             7  simulation  \n",
            "7             7  simulation  \n",
            "8            10  simulation  \n",
            "9             8  simulation  \n",
            "10           11  simulation  \n",
            "11            4  simulation  \n",
            "12           10  simulation  \n",
            "13           10  simulation  \n",
            "14           10  simulation  \n",
            "15            7  simulation  \n",
            "16            9  simulation  \n",
            "17           12  simulation  \n",
            "18           13  simulation  \n",
            "19           13  simulation  \n",
            "20            9  simulation  \n",
            "21            9  simulation  \n",
            "22           11  simulation  \n",
            "23           13  simulation  \n",
            "24           11  simulation  \n",
            "25           12  simulation  \n",
            "26            6  simulation  \n",
            "27           11  simulation  \n",
            "28           14  simulation  \n",
            "29           12  simulation  \n",
            "30           14  simulation  \n",
            "31            8  simulation  \n",
            "32           10  simulation  \n",
            "33            9  simulation  \n",
            "34            9  simulation  \n",
            "35           11  simulation  \n",
            "36           12  simulation  \n",
            "37           13  simulation  \n",
            "38            9  simulation  \n",
            "39           12  simulation  \n",
            "40           14  simulation  \n",
            "41           11  simulation  \n",
            "42            9  simulation  \n",
            "43           10  simulation  \n",
            "44           14  simulation  \n",
            "45           11  simulation  \n",
            "46           11  simulation  \n",
            "47           11  simulation  \n",
            "48           10  simulation  \n",
            "49           12  simulation  \n",
            "\n",
            "[50 rows x 22 columns]\n"
          ]
        },
        {
          "output_type": "display_data",
          "data": {
            "text/html": [
              "<html>\n",
              "<head><meta charset=\"utf-8\" /></head>\n",
              "<body>\n",
              "    <div>            <script src=\"https://cdnjs.cloudflare.com/ajax/libs/mathjax/2.7.5/MathJax.js?config=TeX-AMS-MML_SVG\"></script><script type=\"text/javascript\">if (window.MathJax) {MathJax.Hub.Config({SVG: {font: \"STIX-Web\"}});}</script>                <script type=\"text/javascript\">window.PlotlyConfig = {MathJaxConfig: 'local'};</script>\n",
              "        <script src=\"https://cdn.plot.ly/plotly-2.8.3.min.js\"></script>                <div id=\"777b9544-7a7d-410d-9137-4cd2bcc3bd76\" class=\"plotly-graph-div\" style=\"height:525px; width:100%;\"></div>            <script type=\"text/javascript\">                                    window.PLOTLYENV=window.PLOTLYENV || {};                                    if (document.getElementById(\"777b9544-7a7d-410d-9137-4cd2bcc3bd76\")) {                    Plotly.newPlot(                        \"777b9544-7a7d-410d-9137-4cd2bcc3bd76\",                        [{\"alignmentgroup\":\"True\",\"bingroup\":\"x\",\"histnorm\":\"probability density\",\"hovertemplate\":\"total_heads=%{x}<br>probability density=%{y}<extra></extra>\",\"legendgroup\":\"\",\"marker\":{\"color\":\"#636efa\",\"pattern\":{\"shape\":\"\"}},\"name\":\"\",\"nbinsx\":100,\"offsetgroup\":\"\",\"orientation\":\"v\",\"showlegend\":false,\"x\":[5,10,10,10,9,11,7,7,10,8,11,4,10,10,10,7,9,12,13,13,9,9,11,13,11,12,6,11,14,12,14,8,10,9,9,11,12,13,9,12,14,11,9,10,14,11,11,11,10,12],\"xaxis\":\"x\",\"yaxis\":\"y\",\"type\":\"histogram\"}],                        {\"template\":{\"data\":{\"bar\":[{\"error_x\":{\"color\":\"#2a3f5f\"},\"error_y\":{\"color\":\"#2a3f5f\"},\"marker\":{\"line\":{\"color\":\"#E5ECF6\",\"width\":0.5},\"pattern\":{\"fillmode\":\"overlay\",\"size\":10,\"solidity\":0.2}},\"type\":\"bar\"}],\"barpolar\":[{\"marker\":{\"line\":{\"color\":\"#E5ECF6\",\"width\":0.5},\"pattern\":{\"fillmode\":\"overlay\",\"size\":10,\"solidity\":0.2}},\"type\":\"barpolar\"}],\"carpet\":[{\"aaxis\":{\"endlinecolor\":\"#2a3f5f\",\"gridcolor\":\"white\",\"linecolor\":\"white\",\"minorgridcolor\":\"white\",\"startlinecolor\":\"#2a3f5f\"},\"baxis\":{\"endlinecolor\":\"#2a3f5f\",\"gridcolor\":\"white\",\"linecolor\":\"white\",\"minorgridcolor\":\"white\",\"startlinecolor\":\"#2a3f5f\"},\"type\":\"carpet\"}],\"choropleth\":[{\"colorbar\":{\"outlinewidth\":0,\"ticks\":\"\"},\"type\":\"choropleth\"}],\"contour\":[{\"colorbar\":{\"outlinewidth\":0,\"ticks\":\"\"},\"colorscale\":[[0.0,\"#0d0887\"],[0.1111111111111111,\"#46039f\"],[0.2222222222222222,\"#7201a8\"],[0.3333333333333333,\"#9c179e\"],[0.4444444444444444,\"#bd3786\"],[0.5555555555555556,\"#d8576b\"],[0.6666666666666666,\"#ed7953\"],[0.7777777777777778,\"#fb9f3a\"],[0.8888888888888888,\"#fdca26\"],[1.0,\"#f0f921\"]],\"type\":\"contour\"}],\"contourcarpet\":[{\"colorbar\":{\"outlinewidth\":0,\"ticks\":\"\"},\"type\":\"contourcarpet\"}],\"heatmap\":[{\"colorbar\":{\"outlinewidth\":0,\"ticks\":\"\"},\"colorscale\":[[0.0,\"#0d0887\"],[0.1111111111111111,\"#46039f\"],[0.2222222222222222,\"#7201a8\"],[0.3333333333333333,\"#9c179e\"],[0.4444444444444444,\"#bd3786\"],[0.5555555555555556,\"#d8576b\"],[0.6666666666666666,\"#ed7953\"],[0.7777777777777778,\"#fb9f3a\"],[0.8888888888888888,\"#fdca26\"],[1.0,\"#f0f921\"]],\"type\":\"heatmap\"}],\"heatmapgl\":[{\"colorbar\":{\"outlinewidth\":0,\"ticks\":\"\"},\"colorscale\":[[0.0,\"#0d0887\"],[0.1111111111111111,\"#46039f\"],[0.2222222222222222,\"#7201a8\"],[0.3333333333333333,\"#9c179e\"],[0.4444444444444444,\"#bd3786\"],[0.5555555555555556,\"#d8576b\"],[0.6666666666666666,\"#ed7953\"],[0.7777777777777778,\"#fb9f3a\"],[0.8888888888888888,\"#fdca26\"],[1.0,\"#f0f921\"]],\"type\":\"heatmapgl\"}],\"histogram\":[{\"marker\":{\"pattern\":{\"fillmode\":\"overlay\",\"size\":10,\"solidity\":0.2}},\"type\":\"histogram\"}],\"histogram2d\":[{\"colorbar\":{\"outlinewidth\":0,\"ticks\":\"\"},\"colorscale\":[[0.0,\"#0d0887\"],[0.1111111111111111,\"#46039f\"],[0.2222222222222222,\"#7201a8\"],[0.3333333333333333,\"#9c179e\"],[0.4444444444444444,\"#bd3786\"],[0.5555555555555556,\"#d8576b\"],[0.6666666666666666,\"#ed7953\"],[0.7777777777777778,\"#fb9f3a\"],[0.8888888888888888,\"#fdca26\"],[1.0,\"#f0f921\"]],\"type\":\"histogram2d\"}],\"histogram2dcontour\":[{\"colorbar\":{\"outlinewidth\":0,\"ticks\":\"\"},\"colorscale\":[[0.0,\"#0d0887\"],[0.1111111111111111,\"#46039f\"],[0.2222222222222222,\"#7201a8\"],[0.3333333333333333,\"#9c179e\"],[0.4444444444444444,\"#bd3786\"],[0.5555555555555556,\"#d8576b\"],[0.6666666666666666,\"#ed7953\"],[0.7777777777777778,\"#fb9f3a\"],[0.8888888888888888,\"#fdca26\"],[1.0,\"#f0f921\"]],\"type\":\"histogram2dcontour\"}],\"mesh3d\":[{\"colorbar\":{\"outlinewidth\":0,\"ticks\":\"\"},\"type\":\"mesh3d\"}],\"parcoords\":[{\"line\":{\"colorbar\":{\"outlinewidth\":0,\"ticks\":\"\"}},\"type\":\"parcoords\"}],\"pie\":[{\"automargin\":true,\"type\":\"pie\"}],\"scatter\":[{\"marker\":{\"colorbar\":{\"outlinewidth\":0,\"ticks\":\"\"}},\"type\":\"scatter\"}],\"scatter3d\":[{\"line\":{\"colorbar\":{\"outlinewidth\":0,\"ticks\":\"\"}},\"marker\":{\"colorbar\":{\"outlinewidth\":0,\"ticks\":\"\"}},\"type\":\"scatter3d\"}],\"scattercarpet\":[{\"marker\":{\"colorbar\":{\"outlinewidth\":0,\"ticks\":\"\"}},\"type\":\"scattercarpet\"}],\"scattergeo\":[{\"marker\":{\"colorbar\":{\"outlinewidth\":0,\"ticks\":\"\"}},\"type\":\"scattergeo\"}],\"scattergl\":[{\"marker\":{\"colorbar\":{\"outlinewidth\":0,\"ticks\":\"\"}},\"type\":\"scattergl\"}],\"scattermapbox\":[{\"marker\":{\"colorbar\":{\"outlinewidth\":0,\"ticks\":\"\"}},\"type\":\"scattermapbox\"}],\"scatterpolar\":[{\"marker\":{\"colorbar\":{\"outlinewidth\":0,\"ticks\":\"\"}},\"type\":\"scatterpolar\"}],\"scatterpolargl\":[{\"marker\":{\"colorbar\":{\"outlinewidth\":0,\"ticks\":\"\"}},\"type\":\"scatterpolargl\"}],\"scatterternary\":[{\"marker\":{\"colorbar\":{\"outlinewidth\":0,\"ticks\":\"\"}},\"type\":\"scatterternary\"}],\"surface\":[{\"colorbar\":{\"outlinewidth\":0,\"ticks\":\"\"},\"colorscale\":[[0.0,\"#0d0887\"],[0.1111111111111111,\"#46039f\"],[0.2222222222222222,\"#7201a8\"],[0.3333333333333333,\"#9c179e\"],[0.4444444444444444,\"#bd3786\"],[0.5555555555555556,\"#d8576b\"],[0.6666666666666666,\"#ed7953\"],[0.7777777777777778,\"#fb9f3a\"],[0.8888888888888888,\"#fdca26\"],[1.0,\"#f0f921\"]],\"type\":\"surface\"}],\"table\":[{\"cells\":{\"fill\":{\"color\":\"#EBF0F8\"},\"line\":{\"color\":\"white\"}},\"header\":{\"fill\":{\"color\":\"#C8D4E3\"},\"line\":{\"color\":\"white\"}},\"type\":\"table\"}]},\"layout\":{\"annotationdefaults\":{\"arrowcolor\":\"#2a3f5f\",\"arrowhead\":0,\"arrowwidth\":1},\"autotypenumbers\":\"strict\",\"coloraxis\":{\"colorbar\":{\"outlinewidth\":0,\"ticks\":\"\"}},\"colorscale\":{\"diverging\":[[0,\"#8e0152\"],[0.1,\"#c51b7d\"],[0.2,\"#de77ae\"],[0.3,\"#f1b6da\"],[0.4,\"#fde0ef\"],[0.5,\"#f7f7f7\"],[0.6,\"#e6f5d0\"],[0.7,\"#b8e186\"],[0.8,\"#7fbc41\"],[0.9,\"#4d9221\"],[1,\"#276419\"]],\"sequential\":[[0.0,\"#0d0887\"],[0.1111111111111111,\"#46039f\"],[0.2222222222222222,\"#7201a8\"],[0.3333333333333333,\"#9c179e\"],[0.4444444444444444,\"#bd3786\"],[0.5555555555555556,\"#d8576b\"],[0.6666666666666666,\"#ed7953\"],[0.7777777777777778,\"#fb9f3a\"],[0.8888888888888888,\"#fdca26\"],[1.0,\"#f0f921\"]],\"sequentialminus\":[[0.0,\"#0d0887\"],[0.1111111111111111,\"#46039f\"],[0.2222222222222222,\"#7201a8\"],[0.3333333333333333,\"#9c179e\"],[0.4444444444444444,\"#bd3786\"],[0.5555555555555556,\"#d8576b\"],[0.6666666666666666,\"#ed7953\"],[0.7777777777777778,\"#fb9f3a\"],[0.8888888888888888,\"#fdca26\"],[1.0,\"#f0f921\"]]},\"colorway\":[\"#636efa\",\"#EF553B\",\"#00cc96\",\"#ab63fa\",\"#FFA15A\",\"#19d3f3\",\"#FF6692\",\"#B6E880\",\"#FF97FF\",\"#FECB52\"],\"font\":{\"color\":\"#2a3f5f\"},\"geo\":{\"bgcolor\":\"white\",\"lakecolor\":\"white\",\"landcolor\":\"#E5ECF6\",\"showlakes\":true,\"showland\":true,\"subunitcolor\":\"white\"},\"hoverlabel\":{\"align\":\"left\"},\"hovermode\":\"closest\",\"mapbox\":{\"style\":\"light\"},\"paper_bgcolor\":\"white\",\"plot_bgcolor\":\"#E5ECF6\",\"polar\":{\"angularaxis\":{\"gridcolor\":\"white\",\"linecolor\":\"white\",\"ticks\":\"\"},\"bgcolor\":\"#E5ECF6\",\"radialaxis\":{\"gridcolor\":\"white\",\"linecolor\":\"white\",\"ticks\":\"\"}},\"scene\":{\"xaxis\":{\"backgroundcolor\":\"#E5ECF6\",\"gridcolor\":\"white\",\"gridwidth\":2,\"linecolor\":\"white\",\"showbackground\":true,\"ticks\":\"\",\"zerolinecolor\":\"white\"},\"yaxis\":{\"backgroundcolor\":\"#E5ECF6\",\"gridcolor\":\"white\",\"gridwidth\":2,\"linecolor\":\"white\",\"showbackground\":true,\"ticks\":\"\",\"zerolinecolor\":\"white\"},\"zaxis\":{\"backgroundcolor\":\"#E5ECF6\",\"gridcolor\":\"white\",\"gridwidth\":2,\"linecolor\":\"white\",\"showbackground\":true,\"ticks\":\"\",\"zerolinecolor\":\"white\"}},\"shapedefaults\":{\"line\":{\"color\":\"#2a3f5f\"}},\"ternary\":{\"aaxis\":{\"gridcolor\":\"white\",\"linecolor\":\"white\",\"ticks\":\"\"},\"baxis\":{\"gridcolor\":\"white\",\"linecolor\":\"white\",\"ticks\":\"\"},\"bgcolor\":\"#E5ECF6\",\"caxis\":{\"gridcolor\":\"white\",\"linecolor\":\"white\",\"ticks\":\"\"}},\"title\":{\"x\":0.05},\"xaxis\":{\"automargin\":true,\"gridcolor\":\"white\",\"linecolor\":\"white\",\"ticks\":\"\",\"title\":{\"standoff\":15},\"zerolinecolor\":\"white\",\"zerolinewidth\":2},\"yaxis\":{\"automargin\":true,\"gridcolor\":\"white\",\"linecolor\":\"white\",\"ticks\":\"\",\"title\":{\"standoff\":15},\"zerolinecolor\":\"white\",\"zerolinewidth\":2}}},\"xaxis\":{\"anchor\":\"y\",\"domain\":[0.0,1.0],\"title\":{\"text\":\"total_heads\"},\"range\":[0,20],\"fixedrange\":true},\"yaxis\":{\"anchor\":\"x\",\"domain\":[0.0,1.0],\"title\":{\"text\":\"probability density\"}},\"legend\":{\"tracegroupgap\":0},\"margin\":{\"t\":60},\"barmode\":\"relative\"},                        {\"responsive\": true}                    ).then(function(){\n",
              "                            \n",
              "var gd = document.getElementById('777b9544-7a7d-410d-9137-4cd2bcc3bd76');\n",
              "var x = new MutationObserver(function (mutations, observer) {{\n",
              "        var display = window.getComputedStyle(gd).display;\n",
              "        if (!display || display === 'none') {{\n",
              "            console.log([gd, 'removed!']);\n",
              "            Plotly.purge(gd);\n",
              "            observer.disconnect();\n",
              "        }}\n",
              "}});\n",
              "\n",
              "// Listen for the removal of the full notebook cells\n",
              "var notebookContainer = gd.closest('#notebook-container');\n",
              "if (notebookContainer) {{\n",
              "    x.observe(notebookContainer, {childList: true});\n",
              "}}\n",
              "\n",
              "// Listen for the clearing of the current output cell\n",
              "var outputEl = gd.closest('.output');\n",
              "if (outputEl) {{\n",
              "    x.observe(outputEl, {childList: true});\n",
              "}}\n",
              "\n",
              "                        })                };                            </script>        </div>\n",
              "</body>\n",
              "</html>"
            ]
          },
          "metadata": {}
        }
      ],
      "source": [
        "df = toss_n_coins_m_times(20,50)\n",
        "print(df)\n",
        "fig = px.histogram(df, x=\"total_heads\", nbins=100, \n",
        "                   histnorm='probability density',\n",
        "                  range_x=(0,20) )\n",
        "fig.update_xaxes(fixedrange=True)\n",
        "fig.show()"
      ]
    },
    {
      "cell_type": "code",
      "source": [],
      "metadata": {
        "id": "ZCY8Xx8_C8pT"
      },
      "id": "ZCY8Xx8_C8pT",
      "execution_count": null,
      "outputs": []
    },
    {
      "cell_type": "markdown",
      "id": "893bba4e",
      "metadata": {
        "id": "893bba4e"
      },
      "source": [
        "# Theoretical Data"
      ]
    },
    {
      "cell_type": "code",
      "execution_count": null,
      "id": "4087cfd8",
      "metadata": {
        "id": "4087cfd8"
      },
      "outputs": [],
      "source": []
    }
  ],
  "metadata": {
    "kernelspec": {
      "display_name": "Python 3",
      "language": "python",
      "name": "python3"
    },
    "language_info": {
      "codemirror_mode": {
        "name": "ipython",
        "version": 3
      },
      "file_extension": ".py",
      "mimetype": "text/x-python",
      "name": "python",
      "nbconvert_exporter": "python",
      "pygments_lexer": "ipython3",
      "version": "3.9.12"
    },
    "colab": {
      "provenance": [],
      "collapsed_sections": []
    }
  },
  "nbformat": 4,
  "nbformat_minor": 5
}